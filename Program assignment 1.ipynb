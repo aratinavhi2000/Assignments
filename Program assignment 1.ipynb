{
 "cells": [
  {
   "cell_type": "markdown",
   "id": "461d2928",
   "metadata": {},
   "source": [
    "1. Write a Python program to print &quot;Hello Python&quot;?"
   ]
  },
  {
   "cell_type": "code",
   "execution_count": 1,
   "id": "ea0f3762",
   "metadata": {},
   "outputs": [
    {
     "name": "stdout",
     "output_type": "stream",
     "text": [
      "Hello Python\n"
     ]
    }
   ],
   "source": [
    "print(\"Hello Python\")"
   ]
  },
  {
   "cell_type": "markdown",
   "id": "df0b9ce5",
   "metadata": {},
   "source": [
    "2. Write a Python program to do arithmetical operations addition and division.?"
   ]
  },
  {
   "cell_type": "code",
   "execution_count": 3,
   "id": "b5f28bbe",
   "metadata": {},
   "outputs": [
    {
     "name": "stdout",
     "output_type": "stream",
     "text": [
      "the addition of a and b is :12,the division of a and b is 1.4\n"
     ]
    }
   ],
   "source": [
    "a=7\n",
    "b=5\n",
    "print(f\"the addition of a and b is :{a+b},the division of a and b is {a/b}\")"
   ]
  },
  {
   "cell_type": "markdown",
   "id": "39170e39",
   "metadata": {},
   "source": [
    "3. Write a Python program to find the area of a triangle?"
   ]
  },
  {
   "cell_type": "code",
   "execution_count": 5,
   "id": "81fdd770",
   "metadata": {},
   "outputs": [
    {
     "name": "stdout",
     "output_type": "stream",
     "text": [
      "the area of triangle is:30.0\n"
     ]
    }
   ],
   "source": [
    "b=base=12\n",
    "h=height=5\n",
    "c=(b*h)/2\n",
    "print(f\"the area of triangle is:{c}\")\n"
   ]
  },
  {
   "cell_type": "code",
   "execution_count": 15,
   "id": "8e0b89df",
   "metadata": {},
   "outputs": [
    {
     "name": "stdout",
     "output_type": "stream",
     "text": [
      "value of x is:5\n",
      "value of y is:10\n",
      "**************************************************\n",
      "value of X is:50\n",
      "value of Y is:20\n"
     ]
    }
   ],
   "source": [
    "x=10\n",
    "y=5\n",
    "x,y=y,x\n",
    "print(f\"value of x is:{x}\")        \n",
    "print(f\"value of y is:{y}\") \n",
    "\n",
    "print(50 * ('*'))\n",
    "\n",
    "## using third value\n",
    "X=20\n",
    "Y=50\n",
    "\n",
    "\n",
    "sudh=X\n",
    "X=Y\n",
    "Y=sudh\n",
    "\n",
    "print(f\"value of X is:{X}\")        \n",
    "print(f\"value of Y is:{Y}\")     \n",
    "\n"
   ]
  },
  {
   "cell_type": "markdown",
   "id": "2015369e",
   "metadata": {},
   "source": [
    "5. Write a Python program to generate a random number?"
   ]
  },
  {
   "cell_type": "code",
   "execution_count": 18,
   "id": "cc554d49",
   "metadata": {},
   "outputs": [
    {
     "name": "stdout",
     "output_type": "stream",
     "text": [
      "0.5420249914522922\n",
      "4\n",
      "v\n"
     ]
    }
   ],
   "source": [
    "import random\n",
    "num = random.random()\n",
    "print(num)\n",
    "\n",
    "# import random\n",
    "import random\n",
    " \n",
    "# prints a random value from the list\n",
    "list1 = [1, 2, 3, 4, 5, 6]\n",
    "print(random.choice(list1))\n",
    " \n",
    "# prints a random item from the string\n",
    "string = \"striver\"\n",
    "print(random.choice(string))"
   ]
  },
  {
   "cell_type": "code",
   "execution_count": null,
   "id": "2f6ff9bb",
   "metadata": {},
   "outputs": [],
   "source": []
  },
  {
   "cell_type": "code",
   "execution_count": null,
   "id": "132a6f8b",
   "metadata": {},
   "outputs": [],
   "source": []
  }
 ],
 "metadata": {
  "kernelspec": {
   "display_name": "Python 3 (ipykernel)",
   "language": "python",
   "name": "python3"
  },
  "language_info": {
   "codemirror_mode": {
    "name": "ipython",
    "version": 3
   },
   "file_extension": ".py",
   "mimetype": "text/x-python",
   "name": "python",
   "nbconvert_exporter": "python",
   "pygments_lexer": "ipython3",
   "version": "3.9.12"
  }
 },
 "nbformat": 4,
 "nbformat_minor": 5
}
