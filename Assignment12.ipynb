{
 "cells": [
  {
   "cell_type": "code",
   "execution_count": null,
   "id": "4c1064c4",
   "metadata": {},
   "outputs": [],
   "source": [
    "1. In what modes should the PdfFileReader() and PdfFileWriter() File objects will be opened?\n",
    "Ans- PdfFileReader() is opened in binary mode with rb as a second command after open()\n",
    "eg open(\"readthefile.pdf\", \"rb\")\n",
    "      PdfFileWriter() is opened in write-binary mode with wb as a second command after open()\n",
    "\n",
    "2. From a PdfFileReader object, how do you get a Page object for page 5?\n",
    "Ans- pdfreader.getpage(4)\n",
    "\n",
    "3. What PdfFileReader variable stores the number of pages in the PDF document?\n",
    "Ans-   The total number of pages in the document is stored in the numPages attribute of a PdfFileReader object.\n",
    "\n",
    "4. If a PdfFileReader object’s PDF is encrypted with the password swordfish, what must you do before you can obtain Page objects from it?\n",
    "Ans- pdfreader.decrypt(\"swordfish\") \n",
    "      getpage(5)\n",
    "      \n",
    "5. What methods do you use to rotate a page?\n",
    "Ans- rotateClockwise()\n",
    "     rotateCounterClockwise()\n",
    "     \n",
    "6. What is the difference between a Run object and a Paragraph object?\n",
    "Ans-   Paragraph object has a run attribute that is a list of Run objects ,while Run objects have a text attribute, containing just the text in that particular run.\n",
    "\n",
    "7. How do you obtain a list of Paragraph objects for a Document object that’s stored in a variable named doc?\n",
    "Ans- se PyMuPDF to identify the paragraphs\n",
    "\n",
    "8. What type of object has bold, underline, italic, strike, and outline variables?\n",
    "Ans- A run object has these variables\n",
    "\n",
    "\n",
    "9. What is the difference between False, True, and None for the bold variable?\n",
    "Ans- True always makes the Run object bolded\n",
    "    False makes Run obejct always not bolded, \n",
    "    None will make the Run object just use the style's bold setting.\n",
    "\n",
    "\n",
    "10. How do you create a Document object for a new Word document?\n",
    "Ans- docx.Document()\n",
    "\n",
    "11. How do you add a paragraph with the text 'Hello, there!' to a Document object stored in a variable named doc?\n",
    "Ans- import.doc\n",
    "     doc= docx.Document()\n",
    "     doc.add_paragraph(\"Hello, there !\")\n",
    "     \n",
    "12. What integers represent the levels of headings available in Word documents?\n",
    "Ans- Integers 1 to 4 represent differnt headings\n"
   ]
  }
 ],
 "metadata": {
  "kernelspec": {
   "display_name": "Python 3 (ipykernel)",
   "language": "python",
   "name": "python3"
  },
  "language_info": {
   "codemirror_mode": {
    "name": "ipython",
    "version": 3
   },
   "file_extension": ".py",
   "mimetype": "text/x-python",
   "name": "python",
   "nbconvert_exporter": "python",
   "pygments_lexer": "ipython3",
   "version": "3.9.12"
  }
 },
 "nbformat": 4,
 "nbformat_minor": 5
}
